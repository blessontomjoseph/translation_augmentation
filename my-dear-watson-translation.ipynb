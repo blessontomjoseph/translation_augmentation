{
 "cells": [
  {
   "cell_type": "code",
   "execution_count": 1,
   "id": "ff015f61",
   "metadata": {
    "execution": {
     "iopub.execute_input": "2022-10-15T12:47:40.657958Z",
     "iopub.status.busy": "2022-10-15T12:47:40.657458Z",
     "iopub.status.idle": "2022-10-15T12:47:41.348460Z",
     "shell.execute_reply": "2022-10-15T12:47:41.347227Z"
    },
    "papermill": {
     "duration": 0.700046,
     "end_time": "2022-10-15T12:47:41.351871",
     "exception": false,
     "start_time": "2022-10-15T12:47:40.651825",
     "status": "completed"
    },
    "tags": []
   },
   "outputs": [],
   "source": [
    "import pandas as pd\n",
    "import transformers\n",
    "from transformers import AutoModel,AutoModelForSequenceClassification"
   ]
  },
  {
   "cell_type": "code",
   "execution_count": 2,
   "id": "7a7ee762",
   "metadata": {
    "execution": {
     "iopub.execute_input": "2022-10-15T12:47:41.359364Z",
     "iopub.status.busy": "2022-10-15T12:47:41.358980Z",
     "iopub.status.idle": "2022-10-15T12:47:41.363325Z",
     "shell.execute_reply": "2022-10-15T12:47:41.362393Z"
    },
    "papermill": {
     "duration": 0.011005,
     "end_time": "2022-10-15T12:47:41.365946",
     "exception": false,
     "start_time": "2022-10-15T12:47:41.354941",
     "status": "completed"
    },
    "tags": []
   },
   "outputs": [],
   "source": [
    "# from transformers import M2M100ForConditionalGeneration, M2M100Tokenizer\n",
    "# tokenizer = M2M100Tokenizer.from_pretrained(\"facebook/m2m100_418M\")\n",
    "# model = M2M100ForConditionalGeneration.from_pretrained(\"facebook/m2m100_418M\")"
   ]
  },
  {
   "cell_type": "code",
   "execution_count": 3,
   "id": "839c905a",
   "metadata": {
    "execution": {
     "iopub.execute_input": "2022-10-15T12:47:41.373290Z",
     "iopub.status.busy": "2022-10-15T12:47:41.372400Z",
     "iopub.status.idle": "2022-10-15T12:47:41.376856Z",
     "shell.execute_reply": "2022-10-15T12:47:41.375821Z"
    },
    "papermill": {
     "duration": 0.010442,
     "end_time": "2022-10-15T12:47:41.379143",
     "exception": false,
     "start_time": "2022-10-15T12:47:41.368701",
     "status": "completed"
    },
    "tags": []
   },
   "outputs": [],
   "source": [
    "# import torch\n",
    "# torch.save(model,'./model_arch')\n",
    "# torch.save(model.state_dict(),'./model_state')"
   ]
  },
  {
   "cell_type": "code",
   "execution_count": 4,
   "id": "749eaa12",
   "metadata": {
    "execution": {
     "iopub.execute_input": "2022-10-15T12:47:41.385792Z",
     "iopub.status.busy": "2022-10-15T12:47:41.385404Z",
     "iopub.status.idle": "2022-10-15T12:47:41.389177Z",
     "shell.execute_reply": "2022-10-15T12:47:41.388411Z"
    },
    "papermill": {
     "duration": 0.009378,
     "end_time": "2022-10-15T12:47:41.391173",
     "exception": false,
     "start_time": "2022-10-15T12:47:41.381795",
     "status": "completed"
    },
    "tags": []
   },
   "outputs": [],
   "source": [
    "# model=torch.load('./model_arch')\n",
    "# model.load_state_dict(torch.load('./model_state'))"
   ]
  },
  {
   "cell_type": "code",
   "execution_count": 5,
   "id": "cb360f2e",
   "metadata": {
    "execution": {
     "iopub.execute_input": "2022-10-15T12:47:41.398377Z",
     "iopub.status.busy": "2022-10-15T12:47:41.397443Z",
     "iopub.status.idle": "2022-10-15T12:47:41.401857Z",
     "shell.execute_reply": "2022-10-15T12:47:41.401047Z"
    },
    "papermill": {
     "duration": 0.010172,
     "end_time": "2022-10-15T12:47:41.403977",
     "exception": false,
     "start_time": "2022-10-15T12:47:41.393805",
     "status": "completed"
    },
    "tags": []
   },
   "outputs": [],
   "source": [
    "# # translate Hindi to French\n",
    "# hi_text = \"जीवन एक चॉकलेट बॉक्स की तरह है।\"\n",
    "# chinese_text = \"生活就像一\n",
    "# 盒巧克力。\"\n",
    "# tokenizer.src_lang = \"hi\"\n",
    "# encoded_hi = tokenizer(hi_text, return_tensors=\"pt\")\n",
    "# generated_tokens = model.generate(**encoded_hi, forced_bos_token_id=tokenizer.get_lang_id(\"en\"))\n",
    "# tokenizer.batch_decode(generated_tokens, skip_special_tokens=True)"
   ]
  },
  {
   "cell_type": "code",
   "execution_count": 6,
   "id": "65725a09",
   "metadata": {
    "execution": {
     "iopub.execute_input": "2022-10-15T12:47:41.411506Z",
     "iopub.status.busy": "2022-10-15T12:47:41.410804Z",
     "iopub.status.idle": "2022-10-15T12:47:41.415243Z",
     "shell.execute_reply": "2022-10-15T12:47:41.414433Z"
    },
    "papermill": {
     "duration": 0.010638,
     "end_time": "2022-10-15T12:47:41.417396",
     "exception": false,
     "start_time": "2022-10-15T12:47:41.406758",
     "status": "completed"
    },
    "tags": []
   },
   "outputs": [],
   "source": [
    "# data=pd.read_csv('../input/contradictory-my-dear-watson/train.csv')\n",
    "# langs=data.lang_abv.unique()\n",
    "\n",
    "# from_lang=[]\n",
    "# for lang in from_lang:\n",
    "#     conv_from=data[data['lang_abv']==lang]\n",
    "#     for other_lang in [i for i in from_lang if i !=lang]:\n",
    "        \n",
    "    \n"
   ]
  },
  {
   "cell_type": "code",
   "execution_count": null,
   "id": "a1fdba58",
   "metadata": {
    "papermill": {
     "duration": 0.002273,
     "end_time": "2022-10-15T12:47:41.422493",
     "exception": false,
     "start_time": "2022-10-15T12:47:41.420220",
     "status": "completed"
    },
    "tags": []
   },
   "outputs": [],
   "source": []
  }
 ],
 "metadata": {
  "kernelspec": {
   "display_name": "Python 3",
   "language": "python",
   "name": "python3"
  },
  "language_info": {
   "codemirror_mode": {
    "name": "ipython",
    "version": 3
   },
   "file_extension": ".py",
   "mimetype": "text/x-python",
   "name": "python",
   "nbconvert_exporter": "python",
   "pygments_lexer": "ipython3",
   "version": "3.7.12"
  },
  "papermill": {
   "default_parameters": {},
   "duration": 10.487505,
   "end_time": "2022-10-15T12:47:42.146607",
   "environment_variables": {},
   "exception": null,
   "input_path": "__notebook__.ipynb",
   "output_path": "__notebook__.ipynb",
   "parameters": {},
   "start_time": "2022-10-15T12:47:31.659102",
   "version": "2.3.4"
  }
 },
 "nbformat": 4,
 "nbformat_minor": 5
}
